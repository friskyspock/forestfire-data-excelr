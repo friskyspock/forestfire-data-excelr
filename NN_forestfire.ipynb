{
 "cells": [
  {
   "attachments": {},
   "cell_type": "markdown",
   "metadata": {},
   "source": [
    "# Neural Network Assignment\n",
    "## Forest fires data\n",
    "Predict the burnt area of forest fires with Neural Network"
   ]
  },
  {
   "cell_type": "code",
   "execution_count": 29,
   "metadata": {},
   "outputs": [],
   "source": [
    "import pandas as pd\n",
    "import numpy as np\n",
    "import matplotlib.pyplot as plt\n",
    "import seaborn as sns\n",
    "\n",
    "from sklearn.preprocessing import StandardScaler\n",
    "from sklearn.model_selection import GridSearchCV, KFold\n",
    "\n",
    "import tensorflow as tf\n",
    "from tensorflow.keras.models import Sequential\n",
    "from tensorflow.keras.layers import Dense, Dropout\n",
    "from scikeras.wrappers import KerasClassifier"
   ]
  },
  {
   "cell_type": "code",
   "execution_count": 30,
   "metadata": {},
   "outputs": [],
   "source": [
    "data = pd.read_csv('forestfires.csv')"
   ]
  },
  {
   "attachments": {},
   "cell_type": "markdown",
   "metadata": {},
   "source": [
    "### Data Description\n",
    "- month:\tmonth of the year: 'jan' to 'dec'\n",
    "- day:\tday of the week: 'mon' to 'sun'\n",
    "- FFMC:\tFFMC index from the FWI system: 18.7 to 96.20\n",
    "- DMC:\tDMC index from the FWI system: 1.1 to 291.3\n",
    "- DC:\tDC index from the FWI system: 7.9 to 860.6\n",
    "- ISI:\tISI index from the FWI system: 0.0 to 56.10\n",
    "- temp:\ttemperature in Celsius degrees: 2.2 to 33.30\n",
    "- RH:\trelative humidity in %: 15.0 to 100\n",
    "- wind:\twind speed in km/h: 0.40 to 9.40\n",
    "- rain:\toutside rain in mm/m2 : 0.0 to 6.4\n",
    "- size_category: \tthe burned area of the forest (small,large)"
   ]
  },
  {
   "cell_type": "code",
   "execution_count": 31,
   "metadata": {},
   "outputs": [
    {
     "data": {
      "text/html": [
       "<div>\n",
       "<style scoped>\n",
       "    .dataframe tbody tr th:only-of-type {\n",
       "        vertical-align: middle;\n",
       "    }\n",
       "\n",
       "    .dataframe tbody tr th {\n",
       "        vertical-align: top;\n",
       "    }\n",
       "\n",
       "    .dataframe thead th {\n",
       "        text-align: right;\n",
       "    }\n",
       "</style>\n",
       "<table border=\"1\" class=\"dataframe\">\n",
       "  <thead>\n",
       "    <tr style=\"text-align: right;\">\n",
       "      <th></th>\n",
       "      <th>month</th>\n",
       "      <th>day</th>\n",
       "      <th>FFMC</th>\n",
       "      <th>DMC</th>\n",
       "      <th>DC</th>\n",
       "      <th>ISI</th>\n",
       "      <th>temp</th>\n",
       "      <th>RH</th>\n",
       "      <th>wind</th>\n",
       "      <th>rain</th>\n",
       "      <th>...</th>\n",
       "      <th>monthfeb</th>\n",
       "      <th>monthjan</th>\n",
       "      <th>monthjul</th>\n",
       "      <th>monthjun</th>\n",
       "      <th>monthmar</th>\n",
       "      <th>monthmay</th>\n",
       "      <th>monthnov</th>\n",
       "      <th>monthoct</th>\n",
       "      <th>monthsep</th>\n",
       "      <th>size_category</th>\n",
       "    </tr>\n",
       "  </thead>\n",
       "  <tbody>\n",
       "    <tr>\n",
       "      <th>0</th>\n",
       "      <td>mar</td>\n",
       "      <td>fri</td>\n",
       "      <td>86.2</td>\n",
       "      <td>26.2</td>\n",
       "      <td>94.3</td>\n",
       "      <td>5.1</td>\n",
       "      <td>8.2</td>\n",
       "      <td>51</td>\n",
       "      <td>6.7</td>\n",
       "      <td>0.0</td>\n",
       "      <td>...</td>\n",
       "      <td>0</td>\n",
       "      <td>0</td>\n",
       "      <td>0</td>\n",
       "      <td>0</td>\n",
       "      <td>1</td>\n",
       "      <td>0</td>\n",
       "      <td>0</td>\n",
       "      <td>0</td>\n",
       "      <td>0</td>\n",
       "      <td>small</td>\n",
       "    </tr>\n",
       "    <tr>\n",
       "      <th>1</th>\n",
       "      <td>oct</td>\n",
       "      <td>tue</td>\n",
       "      <td>90.6</td>\n",
       "      <td>35.4</td>\n",
       "      <td>669.1</td>\n",
       "      <td>6.7</td>\n",
       "      <td>18.0</td>\n",
       "      <td>33</td>\n",
       "      <td>0.9</td>\n",
       "      <td>0.0</td>\n",
       "      <td>...</td>\n",
       "      <td>0</td>\n",
       "      <td>0</td>\n",
       "      <td>0</td>\n",
       "      <td>0</td>\n",
       "      <td>0</td>\n",
       "      <td>0</td>\n",
       "      <td>0</td>\n",
       "      <td>1</td>\n",
       "      <td>0</td>\n",
       "      <td>small</td>\n",
       "    </tr>\n",
       "    <tr>\n",
       "      <th>2</th>\n",
       "      <td>oct</td>\n",
       "      <td>sat</td>\n",
       "      <td>90.6</td>\n",
       "      <td>43.7</td>\n",
       "      <td>686.9</td>\n",
       "      <td>6.7</td>\n",
       "      <td>14.6</td>\n",
       "      <td>33</td>\n",
       "      <td>1.3</td>\n",
       "      <td>0.0</td>\n",
       "      <td>...</td>\n",
       "      <td>0</td>\n",
       "      <td>0</td>\n",
       "      <td>0</td>\n",
       "      <td>0</td>\n",
       "      <td>0</td>\n",
       "      <td>0</td>\n",
       "      <td>0</td>\n",
       "      <td>1</td>\n",
       "      <td>0</td>\n",
       "      <td>small</td>\n",
       "    </tr>\n",
       "    <tr>\n",
       "      <th>3</th>\n",
       "      <td>mar</td>\n",
       "      <td>fri</td>\n",
       "      <td>91.7</td>\n",
       "      <td>33.3</td>\n",
       "      <td>77.5</td>\n",
       "      <td>9.0</td>\n",
       "      <td>8.3</td>\n",
       "      <td>97</td>\n",
       "      <td>4.0</td>\n",
       "      <td>0.2</td>\n",
       "      <td>...</td>\n",
       "      <td>0</td>\n",
       "      <td>0</td>\n",
       "      <td>0</td>\n",
       "      <td>0</td>\n",
       "      <td>1</td>\n",
       "      <td>0</td>\n",
       "      <td>0</td>\n",
       "      <td>0</td>\n",
       "      <td>0</td>\n",
       "      <td>small</td>\n",
       "    </tr>\n",
       "    <tr>\n",
       "      <th>4</th>\n",
       "      <td>mar</td>\n",
       "      <td>sun</td>\n",
       "      <td>89.3</td>\n",
       "      <td>51.3</td>\n",
       "      <td>102.2</td>\n",
       "      <td>9.6</td>\n",
       "      <td>11.4</td>\n",
       "      <td>99</td>\n",
       "      <td>1.8</td>\n",
       "      <td>0.0</td>\n",
       "      <td>...</td>\n",
       "      <td>0</td>\n",
       "      <td>0</td>\n",
       "      <td>0</td>\n",
       "      <td>0</td>\n",
       "      <td>1</td>\n",
       "      <td>0</td>\n",
       "      <td>0</td>\n",
       "      <td>0</td>\n",
       "      <td>0</td>\n",
       "      <td>small</td>\n",
       "    </tr>\n",
       "  </tbody>\n",
       "</table>\n",
       "<p>5 rows × 31 columns</p>\n",
       "</div>"
      ],
      "text/plain": [
       "  month  day  FFMC   DMC     DC  ISI  temp  RH  wind  rain  ...  monthfeb   \n",
       "0   mar  fri  86.2  26.2   94.3  5.1   8.2  51   6.7   0.0  ...         0  \\\n",
       "1   oct  tue  90.6  35.4  669.1  6.7  18.0  33   0.9   0.0  ...         0   \n",
       "2   oct  sat  90.6  43.7  686.9  6.7  14.6  33   1.3   0.0  ...         0   \n",
       "3   mar  fri  91.7  33.3   77.5  9.0   8.3  97   4.0   0.2  ...         0   \n",
       "4   mar  sun  89.3  51.3  102.2  9.6  11.4  99   1.8   0.0  ...         0   \n",
       "\n",
       "   monthjan  monthjul  monthjun  monthmar  monthmay  monthnov  monthoct   \n",
       "0         0         0         0         1         0         0         0  \\\n",
       "1         0         0         0         0         0         0         1   \n",
       "2         0         0         0         0         0         0         1   \n",
       "3         0         0         0         1         0         0         0   \n",
       "4         0         0         0         1         0         0         0   \n",
       "\n",
       "   monthsep  size_category  \n",
       "0         0          small  \n",
       "1         0          small  \n",
       "2         0          small  \n",
       "3         0          small  \n",
       "4         0          small  \n",
       "\n",
       "[5 rows x 31 columns]"
      ]
     },
     "execution_count": 31,
     "metadata": {},
     "output_type": "execute_result"
    }
   ],
   "source": [
    "data.head()"
   ]
  },
  {
   "cell_type": "code",
   "execution_count": 35,
   "metadata": {},
   "outputs": [
    {
     "data": {
      "text/plain": [
       "False"
      ]
     },
     "execution_count": 35,
     "metadata": {},
     "output_type": "execute_result"
    }
   ],
   "source": [
    "data.isna().sum().any()"
   ]
  },
  {
   "cell_type": "code",
   "execution_count": 37,
   "metadata": {},
   "outputs": [
    {
     "data": {
      "text/plain": [
       "8"
      ]
     },
     "execution_count": 37,
     "metadata": {},
     "output_type": "execute_result"
    }
   ],
   "source": [
    "data.duplicated().sum()"
   ]
  },
  {
   "cell_type": "code",
   "execution_count": 38,
   "metadata": {},
   "outputs": [],
   "source": [
    "data.drop_duplicates(inplace=True)"
   ]
  },
  {
   "cell_type": "code",
   "execution_count": null,
   "metadata": {},
   "outputs": [],
   "source": [
    "num_columns = ['FFMC','DMC','DC','ISI','temp','RH','wind','rain','area']\n",
    "cat_columns = ['month','day']\n",
    "\n",
    "figs, axes = plt.subplots()\n",
    "sns.histplot(data=data[i],)"
   ]
  },
  {
   "cell_type": "code",
   "execution_count": 32,
   "metadata": {},
   "outputs": [
    {
     "data": {
      "text/plain": [
       "Index(['month', 'day', 'FFMC', 'DMC', 'DC', 'ISI', 'temp', 'RH', 'wind',\n",
       "       'rain', 'area', 'dayfri', 'daymon', 'daysat', 'daysun', 'daythu',\n",
       "       'daytue', 'daywed', 'monthapr', 'monthaug', 'monthdec', 'monthfeb',\n",
       "       'monthjan', 'monthjul', 'monthjun', 'monthmar', 'monthmay', 'monthnov',\n",
       "       'monthoct', 'monthsep', 'size_category'],\n",
       "      dtype='object')"
      ]
     },
     "execution_count": 32,
     "metadata": {},
     "output_type": "execute_result"
    }
   ],
   "source": [
    "data.columns"
   ]
  },
  {
   "cell_type": "code",
   "execution_count": 4,
   "metadata": {},
   "outputs": [],
   "source": [
    "data['size_category'] = data['size_category'].map({'small':0,'large':1})"
   ]
  },
  {
   "cell_type": "code",
   "execution_count": 5,
   "metadata": {},
   "outputs": [],
   "source": [
    "data = data.iloc[:,2:]\n",
    "x = data.drop('area', axis=1)\n",
    "y = data['area']"
   ]
  },
  {
   "cell_type": "code",
   "execution_count": 6,
   "metadata": {},
   "outputs": [],
   "source": [
    "scaler_x = StandardScaler()\n",
    "x = pd.DataFrame(scaler_x.fit_transform(x), columns=x.columns)"
   ]
  },
  {
   "cell_type": "code",
   "execution_count": 7,
   "metadata": {},
   "outputs": [
    {
     "data": {
      "text/plain": [
       "(517, 28)"
      ]
     },
     "execution_count": 7,
     "metadata": {},
     "output_type": "execute_result"
    }
   ],
   "source": [
    "x.shape"
   ]
  },
  {
   "cell_type": "code",
   "execution_count": 22,
   "metadata": {},
   "outputs": [],
   "source": [
    "def create_model(hidden_units=42, optimizer='adam',activation='relu',dropout_rate=0.0):\n",
    "    model = Sequential([\n",
    "        Dense(hidden_units, input_dim=28, activation='relu'),\n",
    "        Dropout(dropout_rate),\n",
    "        Dense(1, activation=activation)\n",
    "    ])\n",
    "    model.compile(loss='binary_crossentropy', optimizer=optimizer, metrics=['accuracy'])\n",
    "    return model"
   ]
  },
  {
   "cell_type": "code",
   "execution_count": 23,
   "metadata": {},
   "outputs": [],
   "source": [
    "param_grid = {'batch_size':[20,40,60,80,100], \n",
    "              'epochs':[10,20,30,40,50]}"
   ]
  },
  {
   "cell_type": "code",
   "execution_count": 24,
   "metadata": {},
   "outputs": [
    {
     "name": "stderr",
     "output_type": "stream",
     "text": [
      "/tmp/ipykernel_4105/1681483163.py:3: DeprecationWarning: KerasClassifier is deprecated, use Sci-Keras (https://github.com/adriangb/scikeras) instead. See https://www.adriangb.com/scikeras/stable/migration.html for help migrating.\n",
      "  model = tf.keras.wrappers.scikit_learn.KerasClassifier(build_fn=create_model, verbose=0)\n"
     ]
    }
   ],
   "source": [
    "#from scikeras.wrappers import KerasClassifier\n",
    "#model = KerasClassifier(build_fn=create_model, verbose=0)\n",
    "model = tf.keras.wrappers.scikit_learn.KerasClassifier(build_fn=create_model, verbose=0)"
   ]
  },
  {
   "cell_type": "code",
   "execution_count": 25,
   "metadata": {},
   "outputs": [
    {
     "data": {
      "text/plain": [
       "dict_keys(['verbose', 'build_fn'])"
      ]
     },
     "execution_count": 25,
     "metadata": {},
     "output_type": "execute_result"
    }
   ],
   "source": [
    "model.get_params().keys()"
   ]
  },
  {
   "cell_type": "code",
   "execution_count": 26,
   "metadata": {},
   "outputs": [
    {
     "name": "stdout",
     "output_type": "stream",
     "text": [
      "Fitting 5 folds for each of 25 candidates, totalling 125 fits\n",
      "[CV 1/5; 1/25] START batch_size=20, epochs=10...................................\n",
      "[CV 1/5; 1/25] END ....batch_size=20, epochs=10;, score=0.087 total time=   1.4s\n",
      "[CV 2/5; 1/25] START batch_size=20, epochs=10...................................\n",
      "[CV 2/5; 1/25] END ....batch_size=20, epochs=10;, score=0.163 total time=   1.2s\n",
      "[CV 3/5; 1/25] START batch_size=20, epochs=10...................................\n",
      "[CV 3/5; 1/25] END ....batch_size=20, epochs=10;, score=0.039 total time=   1.1s\n",
      "[CV 4/5; 1/25] START batch_size=20, epochs=10...................................\n",
      "[CV 4/5; 1/25] END ....batch_size=20, epochs=10;, score=0.000 total time=   1.4s\n",
      "[CV 5/5; 1/25] START batch_size=20, epochs=10...................................\n",
      "[CV 5/5; 1/25] END ....batch_size=20, epochs=10;, score=0.243 total time=   1.1s\n",
      "[CV 1/5; 2/25] START batch_size=20, epochs=20...................................\n",
      "[CV 1/5; 2/25] END ....batch_size=20, epochs=20;, score=0.048 total time=   1.9s\n",
      "[CV 2/5; 2/25] START batch_size=20, epochs=20...................................\n",
      "[CV 2/5; 2/25] END ....batch_size=20, epochs=20;, score=0.163 total time=   1.4s\n",
      "[CV 3/5; 2/25] START batch_size=20, epochs=20...................................\n",
      "[CV 3/5; 2/25] END ....batch_size=20, epochs=20;, score=0.126 total time=   1.4s\n",
      "[CV 4/5; 2/25] START batch_size=20, epochs=20...................................\n",
      "[CV 4/5; 2/25] END ....batch_size=20, epochs=20;, score=0.010 total time=   1.6s\n",
      "[CV 5/5; 2/25] START batch_size=20, epochs=20...................................\n",
      "[CV 5/5; 2/25] END ....batch_size=20, epochs=20;, score=0.010 total time=   1.4s\n",
      "[CV 1/5; 3/25] START batch_size=20, epochs=30...................................\n",
      "[CV 1/5; 3/25] END ....batch_size=20, epochs=30;, score=0.077 total time=   1.9s\n",
      "[CV 2/5; 3/25] START batch_size=20, epochs=30...................................\n",
      "[CV 2/5; 3/25] END ....batch_size=20, epochs=30;, score=0.010 total time=   2.0s\n",
      "[CV 3/5; 3/25] START batch_size=20, epochs=30...................................\n",
      "[CV 3/5; 3/25] END ....batch_size=20, epochs=30;, score=0.058 total time=   1.6s\n",
      "[CV 4/5; 3/25] START batch_size=20, epochs=30...................................\n",
      "[CV 4/5; 3/25] END ....batch_size=20, epochs=30;, score=0.019 total time=   1.6s\n",
      "[CV 5/5; 3/25] START batch_size=20, epochs=30...................................\n",
      "[CV 5/5; 3/25] END ....batch_size=20, epochs=30;, score=0.010 total time=   1.8s\n",
      "[CV 1/5; 4/25] START batch_size=20, epochs=40...................................\n",
      "[CV 1/5; 4/25] END ....batch_size=20, epochs=40;, score=0.000 total time=   2.0s\n",
      "[CV 2/5; 4/25] START batch_size=20, epochs=40...................................\n",
      "[CV 2/5; 4/25] END ....batch_size=20, epochs=40;, score=0.327 total time=   2.0s\n",
      "[CV 3/5; 4/25] START batch_size=20, epochs=40...................................\n",
      "[CV 3/5; 4/25] END ....batch_size=20, epochs=40;, score=0.049 total time=   1.9s\n",
      "[CV 4/5; 4/25] START batch_size=20, epochs=40...................................\n",
      "[CV 4/5; 4/25] END ....batch_size=20, epochs=40;, score=0.019 total time=   1.8s\n",
      "[CV 5/5; 4/25] START batch_size=20, epochs=40...................................\n",
      "[CV 5/5; 4/25] END ....batch_size=20, epochs=40;, score=0.010 total time=   2.7s\n",
      "[CV 1/5; 5/25] START batch_size=20, epochs=50...................................\n",
      "[CV 1/5; 5/25] END ....batch_size=20, epochs=50;, score=0.000 total time=   2.2s\n",
      "[CV 2/5; 5/25] START batch_size=20, epochs=50...................................\n",
      "[CV 2/5; 5/25] END ....batch_size=20, epochs=50;, score=0.000 total time=   3.4s\n",
      "[CV 3/5; 5/25] START batch_size=20, epochs=50...................................\n",
      "[CV 3/5; 5/25] END ....batch_size=20, epochs=50;, score=0.136 total time=   3.5s\n",
      "[CV 4/5; 5/25] START batch_size=20, epochs=50...................................\n",
      "[CV 4/5; 5/25] END ....batch_size=20, epochs=50;, score=0.010 total time=   3.3s\n",
      "[CV 5/5; 5/25] START batch_size=20, epochs=50...................................\n",
      "[CV 5/5; 5/25] END ....batch_size=20, epochs=50;, score=0.019 total time=   3.4s\n",
      "[CV 1/5; 6/25] START batch_size=40, epochs=10...................................\n",
      "[CV 1/5; 6/25] END ....batch_size=40, epochs=10;, score=0.202 total time=   0.9s\n",
      "[CV 2/5; 6/25] START batch_size=40, epochs=10...................................\n",
      "[CV 2/5; 6/25] END ....batch_size=40, epochs=10;, score=0.048 total time=   0.9s\n",
      "[CV 3/5; 6/25] START batch_size=40, epochs=10...................................\n",
      "[CV 3/5; 6/25] END ....batch_size=40, epochs=10;, score=0.078 total time=   0.9s\n",
      "[CV 4/5; 6/25] START batch_size=40, epochs=10...................................\n",
      "[CV 4/5; 6/25] END ....batch_size=40, epochs=10;, score=0.175 total time=   1.1s\n",
      "[CV 5/5; 6/25] START batch_size=40, epochs=10...................................\n",
      "[CV 5/5; 6/25] END ....batch_size=40, epochs=10;, score=0.058 total time=   1.1s\n",
      "[CV 1/5; 7/25] START batch_size=40, epochs=20...................................\n",
      "[CV 1/5; 7/25] END ....batch_size=40, epochs=20;, score=0.096 total time=   1.1s\n",
      "[CV 2/5; 7/25] START batch_size=40, epochs=20...................................\n",
      "[CV 2/5; 7/25] END ....batch_size=40, epochs=20;, score=0.019 total time=   1.0s\n",
      "[CV 3/5; 7/25] START batch_size=40, epochs=20...................................\n",
      "[CV 3/5; 7/25] END ....batch_size=40, epochs=20;, score=0.039 total time=   1.1s\n",
      "[CV 4/5; 7/25] START batch_size=40, epochs=20...................................\n",
      "[CV 4/5; 7/25] END ....batch_size=40, epochs=20;, score=0.039 total time=   1.4s\n",
      "[CV 5/5; 7/25] START batch_size=40, epochs=20...................................\n",
      "[CV 5/5; 7/25] END ....batch_size=40, epochs=20;, score=0.078 total time=   2.1s\n",
      "[CV 1/5; 8/25] START batch_size=40, epochs=30...................................\n",
      "[CV 1/5; 8/25] END ....batch_size=40, epochs=30;, score=0.067 total time=   1.3s\n",
      "[CV 2/5; 8/25] START batch_size=40, epochs=30...................................\n",
      "[CV 2/5; 8/25] END ....batch_size=40, epochs=30;, score=0.000 total time=   1.5s\n",
      "[CV 3/5; 8/25] START batch_size=40, epochs=30...................................\n",
      "[CV 3/5; 8/25] END ....batch_size=40, epochs=30;, score=0.039 total time=   1.3s\n",
      "[CV 4/5; 8/25] START batch_size=40, epochs=30...................................\n",
      "[CV 4/5; 8/25] END ....batch_size=40, epochs=30;, score=0.010 total time=   1.2s\n",
      "[CV 5/5; 8/25] START batch_size=40, epochs=30...................................\n",
      "[CV 5/5; 8/25] END ....batch_size=40, epochs=30;, score=0.019 total time=   1.4s\n",
      "[CV 1/5; 9/25] START batch_size=40, epochs=40...................................\n",
      "[CV 1/5; 9/25] END ....batch_size=40, epochs=40;, score=0.077 total time=   2.1s\n",
      "[CV 2/5; 9/25] START batch_size=40, epochs=40...................................\n",
      "[CV 2/5; 9/25] END ....batch_size=40, epochs=40;, score=0.000 total time=   1.4s\n",
      "[CV 3/5; 9/25] START batch_size=40, epochs=40...................................\n",
      "[CV 3/5; 9/25] END ....batch_size=40, epochs=40;, score=0.039 total time=   1.3s\n",
      "[CV 4/5; 9/25] START batch_size=40, epochs=40...................................\n",
      "[CV 4/5; 9/25] END ....batch_size=40, epochs=40;, score=0.010 total time=   1.9s\n",
      "[CV 5/5; 9/25] START batch_size=40, epochs=40...................................\n",
      "[CV 5/5; 9/25] END ....batch_size=40, epochs=40;, score=0.000 total time=   1.4s\n",
      "[CV 1/5; 10/25] START batch_size=40, epochs=50..................................\n",
      "[CV 1/5; 10/25] END ...batch_size=40, epochs=50;, score=0.240 total time=   1.5s\n",
      "[CV 2/5; 10/25] START batch_size=40, epochs=50..................................\n",
      "[CV 2/5; 10/25] END ...batch_size=40, epochs=50;, score=0.010 total time=   1.6s\n",
      "[CV 3/5; 10/25] START batch_size=40, epochs=50..................................\n",
      "[CV 3/5; 10/25] END ...batch_size=40, epochs=50;, score=0.039 total time=   1.5s\n",
      "[CV 4/5; 10/25] START batch_size=40, epochs=50..................................\n",
      "[CV 4/5; 10/25] END ...batch_size=40, epochs=50;, score=0.019 total time=   1.5s\n",
      "[CV 5/5; 10/25] START batch_size=40, epochs=50..................................\n",
      "[CV 5/5; 10/25] END ...batch_size=40, epochs=50;, score=0.019 total time=   2.7s\n",
      "[CV 1/5; 11/25] START batch_size=60, epochs=10..................................\n",
      "[CV 1/5; 11/25] END ...batch_size=60, epochs=10;, score=0.115 total time=   1.0s\n",
      "[CV 2/5; 11/25] START batch_size=60, epochs=10..................................\n",
      "[CV 2/5; 11/25] END ...batch_size=60, epochs=10;, score=0.048 total time=   0.9s\n",
      "[CV 3/5; 11/25] START batch_size=60, epochs=10..................................\n",
      "[CV 3/5; 11/25] END ...batch_size=60, epochs=10;, score=0.165 total time=   0.9s\n",
      "[CV 4/5; 11/25] START batch_size=60, epochs=10..................................\n",
      "[CV 4/5; 11/25] END ...batch_size=60, epochs=10;, score=0.078 total time=   0.9s\n",
      "[CV 5/5; 11/25] START batch_size=60, epochs=10..................................\n",
      "[CV 5/5; 11/25] END ...batch_size=60, epochs=10;, score=0.049 total time=   0.9s\n",
      "[CV 1/5; 12/25] START batch_size=60, epochs=20..................................\n",
      "[CV 1/5; 12/25] END ...batch_size=60, epochs=20;, score=0.000 total time=   1.0s\n",
      "[CV 2/5; 12/25] START batch_size=60, epochs=20..................................\n",
      "[CV 2/5; 12/25] END ...batch_size=60, epochs=20;, score=0.019 total time=   1.1s\n",
      "[CV 3/5; 12/25] START batch_size=60, epochs=20..................................\n",
      "[CV 3/5; 12/25] END ...batch_size=60, epochs=20;, score=0.136 total time=   1.0s\n",
      "[CV 4/5; 12/25] START batch_size=60, epochs=20..................................\n",
      "[CV 4/5; 12/25] END ...batch_size=60, epochs=20;, score=0.039 total time=   1.1s\n",
      "[CV 5/5; 12/25] START batch_size=60, epochs=20..................................\n",
      "[CV 5/5; 12/25] END ...batch_size=60, epochs=20;, score=0.039 total time=   1.2s\n",
      "[CV 1/5; 13/25] START batch_size=60, epochs=30..................................\n",
      "[CV 1/5; 13/25] END ...batch_size=60, epochs=30;, score=0.010 total time=   1.1s\n",
      "[CV 2/5; 13/25] START batch_size=60, epochs=30..................................\n",
      "[CV 2/5; 13/25] END ...batch_size=60, epochs=30;, score=0.154 total time=   1.1s\n",
      "[CV 3/5; 13/25] START batch_size=60, epochs=30..................................\n",
      "[CV 3/5; 13/25] END ...batch_size=60, epochs=30;, score=0.107 total time=   1.1s\n",
      "[CV 4/5; 13/25] START batch_size=60, epochs=30..................................\n",
      "[CV 4/5; 13/25] END ...batch_size=60, epochs=30;, score=0.136 total time=   1.4s\n",
      "[CV 5/5; 13/25] START batch_size=60, epochs=30..................................\n",
      "[CV 5/5; 13/25] END ...batch_size=60, epochs=30;, score=0.019 total time=   1.8s\n",
      "[CV 1/5; 14/25] START batch_size=60, epochs=40..................................\n",
      "[CV 1/5; 14/25] END ...batch_size=60, epochs=40;, score=0.058 total time=   1.6s\n",
      "[CV 2/5; 14/25] START batch_size=60, epochs=40..................................\n",
      "[CV 2/5; 14/25] END ...batch_size=60, epochs=40;, score=0.038 total time=   1.5s\n",
      "[CV 3/5; 14/25] START batch_size=60, epochs=40..................................\n",
      "[CV 3/5; 14/25] END ...batch_size=60, epochs=40;, score=0.136 total time=   1.6s\n",
      "[CV 4/5; 14/25] START batch_size=60, epochs=40..................................\n",
      "[CV 4/5; 14/25] END ...batch_size=60, epochs=40;, score=0.000 total time=   1.4s\n",
      "[CV 5/5; 14/25] START batch_size=60, epochs=40..................................\n",
      "[CV 5/5; 14/25] END ...batch_size=60, epochs=40;, score=0.000 total time=   1.4s\n",
      "[CV 1/5; 15/25] START batch_size=60, epochs=50..................................\n",
      "[CV 1/5; 15/25] END ...batch_size=60, epochs=50;, score=0.000 total time=   1.4s\n",
      "[CV 2/5; 15/25] START batch_size=60, epochs=50..................................\n",
      "[CV 2/5; 15/25] END ...batch_size=60, epochs=50;, score=0.038 total time=   1.3s\n",
      "[CV 3/5; 15/25] START batch_size=60, epochs=50..................................\n",
      "[CV 3/5; 15/25] END ...batch_size=60, epochs=50;, score=0.155 total time=   1.4s\n",
      "[CV 4/5; 15/25] START batch_size=60, epochs=50..................................\n",
      "[CV 4/5; 15/25] END ...batch_size=60, epochs=50;, score=0.000 total time=   1.4s\n",
      "[CV 5/5; 15/25] START batch_size=60, epochs=50..................................\n",
      "[CV 5/5; 15/25] END ...batch_size=60, epochs=50;, score=0.029 total time=   1.4s\n",
      "[CV 1/5; 16/25] START batch_size=80, epochs=10..................................\n",
      "[CV 1/5; 16/25] END ...batch_size=80, epochs=10;, score=0.221 total time=   0.9s\n",
      "[CV 2/5; 16/25] START batch_size=80, epochs=10..................................\n",
      "[CV 2/5; 16/25] END ...batch_size=80, epochs=10;, score=0.010 total time=   1.1s\n",
      "[CV 3/5; 16/25] START batch_size=80, epochs=10..................................\n",
      "[CV 3/5; 16/25] END ...batch_size=80, epochs=10;, score=0.049 total time=   0.9s\n",
      "[CV 4/5; 16/25] START batch_size=80, epochs=10..................................\n",
      "[CV 4/5; 16/25] END ...batch_size=80, epochs=10;, score=0.223 total time=   0.9s\n",
      "[CV 5/5; 16/25] START batch_size=80, epochs=10..................................\n",
      "[CV 5/5; 16/25] END ...batch_size=80, epochs=10;, score=0.165 total time=   1.6s\n",
      "[CV 1/5; 17/25] START batch_size=80, epochs=20..................................\n",
      "[CV 1/5; 17/25] END ...batch_size=80, epochs=20;, score=0.038 total time=   1.2s\n",
      "[CV 2/5; 17/25] START batch_size=80, epochs=20..................................\n",
      "[CV 2/5; 17/25] END ...batch_size=80, epochs=20;, score=0.019 total time=   1.1s\n",
      "[CV 3/5; 17/25] START batch_size=80, epochs=20..................................\n",
      "[CV 3/5; 17/25] END ...batch_size=80, epochs=20;, score=0.058 total time=   1.0s\n",
      "[CV 4/5; 17/25] START batch_size=80, epochs=20..................................\n",
      "[CV 4/5; 17/25] END ...batch_size=80, epochs=20;, score=0.019 total time=   1.0s\n",
      "[CV 5/5; 17/25] START batch_size=80, epochs=20..................................\n",
      "[CV 5/5; 17/25] END ...batch_size=80, epochs=20;, score=0.311 total time=   1.2s\n",
      "[CV 1/5; 18/25] START batch_size=80, epochs=30..................................\n",
      "[CV 1/5; 18/25] END ...batch_size=80, epochs=30;, score=0.019 total time=   1.1s\n",
      "[CV 2/5; 18/25] START batch_size=80, epochs=30..................................\n",
      "[CV 2/5; 18/25] END ...batch_size=80, epochs=30;, score=0.173 total time=   1.1s\n",
      "[CV 3/5; 18/25] START batch_size=80, epochs=30..................................\n",
      "[CV 3/5; 18/25] END ...batch_size=80, epochs=30;, score=0.243 total time=   1.1s\n",
      "[CV 4/5; 18/25] START batch_size=80, epochs=30..................................\n",
      "[CV 4/5; 18/25] END ...batch_size=80, epochs=30;, score=0.029 total time=   1.1s\n",
      "[CV 5/5; 18/25] START batch_size=80, epochs=30..................................\n",
      "[CV 5/5; 18/25] END ...batch_size=80, epochs=30;, score=0.010 total time=   1.0s\n",
      "[CV 1/5; 19/25] START batch_size=80, epochs=40..................................\n",
      "[CV 1/5; 19/25] END ...batch_size=80, epochs=40;, score=0.010 total time=   1.1s\n",
      "[CV 2/5; 19/25] START batch_size=80, epochs=40..................................\n",
      "[CV 2/5; 19/25] END ...batch_size=80, epochs=40;, score=0.154 total time=   1.4s\n",
      "[CV 3/5; 19/25] START batch_size=80, epochs=40..................................\n",
      "[CV 3/5; 19/25] END ...batch_size=80, epochs=40;, score=0.087 total time=   1.4s\n",
      "[CV 4/5; 19/25] START batch_size=80, epochs=40..................................\n",
      "[CV 4/5; 19/25] END ...batch_size=80, epochs=40;, score=0.155 total time=   1.5s\n",
      "[CV 5/5; 19/25] START batch_size=80, epochs=40..................................\n",
      "[CV 5/5; 19/25] END ...batch_size=80, epochs=40;, score=0.010 total time=   1.9s\n",
      "[CV 1/5; 20/25] START batch_size=80, epochs=50..................................\n",
      "[CV 1/5; 20/25] END ...batch_size=80, epochs=50;, score=0.087 total time=   1.3s\n",
      "[CV 2/5; 20/25] START batch_size=80, epochs=50..................................\n",
      "[CV 2/5; 20/25] END ...batch_size=80, epochs=50;, score=0.077 total time=   1.4s\n",
      "[CV 3/5; 20/25] START batch_size=80, epochs=50..................................\n",
      "[CV 3/5; 20/25] END ...batch_size=80, epochs=50;, score=0.058 total time=   1.4s\n",
      "[CV 4/5; 20/25] START batch_size=80, epochs=50..................................\n",
      "[CV 4/5; 20/25] END ...batch_size=80, epochs=50;, score=0.000 total time=   1.3s\n",
      "[CV 5/5; 20/25] START batch_size=80, epochs=50..................................\n",
      "[CV 5/5; 20/25] END ...batch_size=80, epochs=50;, score=0.000 total time=   1.3s\n",
      "[CV 1/5; 21/25] START batch_size=100, epochs=10.................................\n",
      "[CV 1/5; 21/25] END ..batch_size=100, epochs=10;, score=0.154 total time=   1.0s\n",
      "[CV 2/5; 21/25] START batch_size=100, epochs=10.................................\n",
      "[CV 2/5; 21/25] END ..batch_size=100, epochs=10;, score=0.154 total time=   0.9s\n",
      "[CV 3/5; 21/25] START batch_size=100, epochs=10.................................\n",
      "[CV 3/5; 21/25] END ..batch_size=100, epochs=10;, score=0.029 total time=   0.8s\n",
      "[CV 4/5; 21/25] START batch_size=100, epochs=10.................................\n",
      "[CV 4/5; 21/25] END ..batch_size=100, epochs=10;, score=0.214 total time=   0.9s\n",
      "[CV 5/5; 21/25] START batch_size=100, epochs=10.................................\n",
      "[CV 5/5; 21/25] END ..batch_size=100, epochs=10;, score=0.359 total time=   0.9s\n",
      "[CV 1/5; 22/25] START batch_size=100, epochs=20.................................\n",
      "[CV 1/5; 22/25] END ..batch_size=100, epochs=20;, score=0.192 total time=   0.9s\n",
      "[CV 2/5; 22/25] START batch_size=100, epochs=20.................................\n",
      "[CV 2/5; 22/25] END ..batch_size=100, epochs=20;, score=0.154 total time=   0.9s\n",
      "[CV 3/5; 22/25] START batch_size=100, epochs=20.................................\n",
      "[CV 3/5; 22/25] END ..batch_size=100, epochs=20;, score=0.204 total time=   1.1s\n",
      "[CV 4/5; 22/25] START batch_size=100, epochs=20.................................\n",
      "[CV 4/5; 22/25] END ..batch_size=100, epochs=20;, score=0.165 total time=   1.1s\n",
      "[CV 5/5; 22/25] START batch_size=100, epochs=20.................................\n",
      "[CV 5/5; 22/25] END ..batch_size=100, epochs=20;, score=0.010 total time=   1.8s\n",
      "[CV 1/5; 23/25] START batch_size=100, epochs=30.................................\n",
      "[CV 1/5; 23/25] END ..batch_size=100, epochs=30;, score=0.000 total time=   1.3s\n",
      "[CV 2/5; 23/25] START batch_size=100, epochs=30.................................\n",
      "[CV 2/5; 23/25] END ..batch_size=100, epochs=30;, score=0.077 total time=   1.2s\n",
      "[CV 3/5; 23/25] START batch_size=100, epochs=30.................................\n",
      "[CV 3/5; 23/25] END ..batch_size=100, epochs=30;, score=0.107 total time=   1.1s\n",
      "[CV 4/5; 23/25] START batch_size=100, epochs=30.................................\n",
      "[CV 4/5; 23/25] END ..batch_size=100, epochs=30;, score=0.000 total time=   1.1s\n",
      "[CV 5/5; 23/25] START batch_size=100, epochs=30.................................\n",
      "[CV 5/5; 23/25] END ..batch_size=100, epochs=30;, score=0.019 total time=   1.1s\n",
      "[CV 1/5; 24/25] START batch_size=100, epochs=40.................................\n",
      "[CV 1/5; 24/25] END ..batch_size=100, epochs=40;, score=0.038 total time=   1.4s\n",
      "[CV 2/5; 24/25] START batch_size=100, epochs=40.................................\n",
      "[CV 2/5; 24/25] END ..batch_size=100, epochs=40;, score=0.010 total time=   1.4s\n",
      "[CV 3/5; 24/25] START batch_size=100, epochs=40.................................\n",
      "[CV 3/5; 24/25] END ..batch_size=100, epochs=40;, score=0.058 total time=   1.1s\n",
      "[CV 4/5; 24/25] START batch_size=100, epochs=40.................................\n",
      "[CV 4/5; 24/25] END ..batch_size=100, epochs=40;, score=0.058 total time=   1.5s\n",
      "[CV 5/5; 24/25] START batch_size=100, epochs=40.................................\n",
      "[CV 5/5; 24/25] END ..batch_size=100, epochs=40;, score=0.155 total time=   1.1s\n",
      "[CV 1/5; 25/25] START batch_size=100, epochs=50.................................\n",
      "[CV 1/5; 25/25] END ..batch_size=100, epochs=50;, score=0.010 total time=   1.2s\n",
      "[CV 2/5; 25/25] START batch_size=100, epochs=50.................................\n",
      "[CV 2/5; 25/25] END ..batch_size=100, epochs=50;, score=0.029 total time=   1.2s\n",
      "[CV 3/5; 25/25] START batch_size=100, epochs=50.................................\n",
      "[CV 3/5; 25/25] END ..batch_size=100, epochs=50;, score=0.175 total time=   1.2s\n",
      "[CV 4/5; 25/25] START batch_size=100, epochs=50.................................\n",
      "[CV 4/5; 25/25] END ..batch_size=100, epochs=50;, score=0.000 total time=   1.4s\n",
      "[CV 5/5; 25/25] START batch_size=100, epochs=50.................................\n",
      "[CV 5/5; 25/25] END ..batch_size=100, epochs=50;, score=0.000 total time=   2.0s\n"
     ]
    }
   ],
   "source": [
    "grid = GridSearchCV(estimator=model, param_grid=param_grid, cv=KFold(), verbose=10)\n",
    "grid_result = grid.fit(x,y)"
   ]
  },
  {
   "cell_type": "code",
   "execution_count": 16,
   "metadata": {},
   "outputs": [
    {
     "name": "stdout",
     "output_type": "stream",
     "text": [
      "Best: 0.35537714660167696, using {'activation': 'tanh', 'batch_size': 94, 'dropout_rate': 0.1, 'epochs': 10, 'optimizer': 'adam'}\n"
     ]
    }
   ],
   "source": [
    "print('Best: {}, using {}'.format(grid_result.best_score_, grid_result.best_params_))"
   ]
  },
  {
   "cell_type": "code",
   "execution_count": 27,
   "metadata": {},
   "outputs": [
    {
     "data": {
      "text/plain": [
       "<Axes: xlabel='param_epochs', ylabel='param_batch_size'>"
      ]
     },
     "execution_count": 27,
     "metadata": {},
     "output_type": "execute_result"
    },
    {
     "data": {
      "image/png": "[encoded data removed]",
      "text/plain": [
       "<Figure size 640x480 with 2 Axes>"
      ]
     },
     "metadata": {},
     "output_type": "display_data"
    }
   ],
   "source": [
    "grid_result_df = pd.DataFrame(grid_result.cv_results_)\n",
    "mean_scores = grid_result_df.pivot_table(values='mean_test_score', index='param_batch_size', columns='param_epochs')\n",
    "sns.heatmap(mean_scores, cmap=\"YlGnBu\", annot=True, fmt=\".3f\")"
   ]
  },
  {
   "cell_type": "code",
   "execution_count": 21,
   "metadata": {},
   "outputs": [
    {
     "data": {
      "text/plain": [
       "<Axes: xlabel='param_epochs', ylabel='param_batch_size'>"
      ]
     },
     "execution_count": 21,
     "metadata": {},
     "output_type": "execute_result"
    },
    {
     "data": {
      "image/png": "[encoded data removed]",
      "text/plain": [
       "<Figure size 640x480 with 2 Axes>"
      ]
     },
     "metadata": {},
     "output_type": "display_data"
    }
   ],
   "source": [
    "grid_result_df = pd.DataFrame(grid_result.cv_results_)\n",
    "mean_scores = grid_result_df.pivot_table(values='mean_test_score', index='param_batch_size', columns='param_epochs')\n",
    "sns.heatmap(mean_scores, cmap=\"YlGnBu\", annot=True, fmt=\".3f\")"
   ]
  },
  {
   "cell_type": "code",
   "execution_count": 18,
   "metadata": {},
   "outputs": [
    {
     "name": "stdout",
     "output_type": "stream",
     "text": [
      "Epoch 1/10\n",
      "5/5 [==============================] - 1s 79ms/step - loss: 34.7797 - accuracy: 0.3148 - val_loss: 90.5157 - val_accuracy: 0.2308\n",
      "Epoch 2/10\n",
      "5/5 [==============================] - 0s 9ms/step - loss: -4.1996 - accuracy: 0.3269 - val_loss: 86.3406 - val_accuracy: 0.2308\n",
      "Epoch 3/10\n",
      "5/5 [==============================] - 0s 15ms/step - loss: 37.5437 - accuracy: 0.3148 - val_loss: 81.9546 - val_accuracy: 0.2308\n",
      "Epoch 4/10\n",
      "5/5 [==============================] - 0s 15ms/step - loss: 24.3402 - accuracy: 0.3099 - val_loss: 79.7833 - val_accuracy: 0.2212\n",
      "Epoch 5/10\n",
      "5/5 [==============================] - 0s 14ms/step - loss: 28.3884 - accuracy: 0.3099 - val_loss: 75.5603 - val_accuracy: 0.2115\n",
      "Epoch 6/10\n",
      "5/5 [==============================] - 0s 16ms/step - loss: 23.3449 - accuracy: 0.3148 - val_loss: 72.6147 - val_accuracy: 0.2115\n",
      "Epoch 7/10\n",
      "5/5 [==============================] - 0s 14ms/step - loss: 5.5772 - accuracy: 0.3002 - val_loss: 70.6124 - val_accuracy: 0.2115\n",
      "Epoch 8/10\n",
      "5/5 [==============================] - 0s 15ms/step - loss: -22.9344 - accuracy: 0.2930 - val_loss: 68.0926 - val_accuracy: 0.2115\n",
      "Epoch 9/10\n",
      "5/5 [==============================] - 0s 16ms/step - loss: -21.2387 - accuracy: 0.2760 - val_loss: 67.0576 - val_accuracy: 0.2115\n",
      "Epoch 10/10\n",
      "5/5 [==============================] - 0s 15ms/step - loss: -26.0619 - accuracy: 0.2906 - val_loss: 65.6367 - val_accuracy: 0.2019\n"
     ]
    }
   ],
   "source": [
    "model = create_model(activation='tanh',dropout_rate=0.1,optimizer='adam')\n",
    "history = model.fit(x,y,validation_split=0.2,epochs=10,batch_size=94)"
   ]
  }
 ],
 "metadata": {
  "kernelspec": {
   "display_name": "Python 3",
   "language": "python",
   "name": "python3"
  },
  "language_info": {
   "codemirror_mode": {
    "name": "ipython",
    "version": 3
   },
   "file_extension": ".py",
   "mimetype": "text/x-python",
   "name": "python",
   "nbconvert_exporter": "python",
   "pygments_lexer": "ipython3",
   "version": "3.10.4"
  },
  "orig_nbformat": 4
 },
 "nbformat": 4,
 "nbformat_minor": 2
}
